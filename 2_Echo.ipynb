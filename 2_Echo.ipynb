{
 "cells": [
  {
   "cell_type": "markdown",
   "metadata": {},
   "source": [
    "# Filtering Echo Notes"
   ]
  },
  {
   "cell_type": "markdown",
   "metadata": {},
   "source": [
    "### Based on the Echo Notes characterize whether a patient has a CHF or not\n",
    "### In the Next Step Characterize whether Each patient has which level of CHF"
   ]
  },
  {
   "cell_type": "code",
   "execution_count": 88,
   "metadata": {},
   "outputs": [],
   "source": [
    "## Importing LIbraries\n",
    "\n",
    "from sqlalchemy import create_engine\n",
    "import re\n",
    "import pandas as pd\n",
    "from pprint import pprint\n",
    "import psycopg2\n",
    "from collections import Counter\n",
    "import random\n",
    "from urllib.request import urlopen\n",
    "import urllib.parse\n",
    "import random\n",
    "import json"
   ]
  },
  {
   "cell_type": "code",
   "execution_count": 54,
   "metadata": {},
   "outputs": [],
   "source": [
    "%load_ext autoreload\n",
    "%autoreload 2"
   ]
  },
  {
   "cell_type": "markdown",
   "metadata": {},
   "source": [
    "### Connecting to Database to send the Echo Notes to Text Files"
   ]
  },
  {
   "cell_type": "code",
   "execution_count": 55,
   "metadata": {},
   "outputs": [],
   "source": [
    "## Connecting to Database\n",
    "\n",
    "conn_string = \"host='localhost' dbname='mimic' user='mimicuser' password='1234567890'\"\n",
    "conn = psycopg2.connect(conn_string)"
   ]
  },
  {
   "cell_type": "code",
   "execution_count": 56,
   "metadata": {},
   "outputs": [
    {
     "data": {
      "text/html": [
       "<div>\n",
       "<style scoped>\n",
       "    .dataframe tbody tr th:only-of-type {\n",
       "        vertical-align: middle;\n",
       "    }\n",
       "\n",
       "    .dataframe tbody tr th {\n",
       "        vertical-align: top;\n",
       "    }\n",
       "\n",
       "    .dataframe thead th {\n",
       "        text-align: right;\n",
       "    }\n",
       "</style>\n",
       "<table border=\"1\" class=\"dataframe\">\n",
       "  <thead>\n",
       "    <tr style=\"text-align: right;\">\n",
       "      <th></th>\n",
       "      <th>row_id</th>\n",
       "      <th>subject_id</th>\n",
       "      <th>hadm_id</th>\n",
       "      <th>chartdate</th>\n",
       "      <th>charttime</th>\n",
       "      <th>storetime</th>\n",
       "      <th>category</th>\n",
       "      <th>description</th>\n",
       "      <th>cgid</th>\n",
       "      <th>iserror</th>\n",
       "      <th>text</th>\n",
       "    </tr>\n",
       "  </thead>\n",
       "  <tbody>\n",
       "    <tr>\n",
       "      <th>0</th>\n",
       "      <td>59653</td>\n",
       "      <td>31038</td>\n",
       "      <td>174978.0</td>\n",
       "      <td>2102-06-14</td>\n",
       "      <td>None</td>\n",
       "      <td>None</td>\n",
       "      <td>Echo</td>\n",
       "      <td>Report</td>\n",
       "      <td>None</td>\n",
       "      <td>None</td>\n",
       "      <td>PATIENT/TEST INFORMATION:\\nIndication: Endocar...</td>\n",
       "    </tr>\n",
       "    <tr>\n",
       "      <th>1</th>\n",
       "      <td>59654</td>\n",
       "      <td>70150</td>\n",
       "      <td>156140.0</td>\n",
       "      <td>2191-05-10</td>\n",
       "      <td>None</td>\n",
       "      <td>None</td>\n",
       "      <td>Echo</td>\n",
       "      <td>Report</td>\n",
       "      <td>None</td>\n",
       "      <td>None</td>\n",
       "      <td>PATIENT/TEST INFORMATION:\\nIndication: CHF, A-...</td>\n",
       "    </tr>\n",
       "    <tr>\n",
       "      <th>2</th>\n",
       "      <td>59655</td>\n",
       "      <td>54190</td>\n",
       "      <td>188571.0</td>\n",
       "      <td>2158-02-16</td>\n",
       "      <td>None</td>\n",
       "      <td>None</td>\n",
       "      <td>Echo</td>\n",
       "      <td>Report</td>\n",
       "      <td>None</td>\n",
       "      <td>None</td>\n",
       "      <td>PATIENT/TEST INFORMATION:\\nIndication: Cerebro...</td>\n",
       "    </tr>\n",
       "    <tr>\n",
       "      <th>3</th>\n",
       "      <td>59656</td>\n",
       "      <td>5771</td>\n",
       "      <td>185291.0</td>\n",
       "      <td>2173-09-02</td>\n",
       "      <td>None</td>\n",
       "      <td>None</td>\n",
       "      <td>Echo</td>\n",
       "      <td>Report</td>\n",
       "      <td>None</td>\n",
       "      <td>None</td>\n",
       "      <td>PATIENT/TEST INFORMATION:\\nIndication: 78 year...</td>\n",
       "    </tr>\n",
       "    <tr>\n",
       "      <th>4</th>\n",
       "      <td>59657</td>\n",
       "      <td>80030</td>\n",
       "      <td>100442.0</td>\n",
       "      <td>2119-06-07</td>\n",
       "      <td>None</td>\n",
       "      <td>None</td>\n",
       "      <td>Echo</td>\n",
       "      <td>Report</td>\n",
       "      <td>None</td>\n",
       "      <td>None</td>\n",
       "      <td>PATIENT/TEST INFORMATION:\\nIndication: Left ve...</td>\n",
       "    </tr>\n",
       "  </tbody>\n",
       "</table>\n",
       "</div>"
      ],
      "text/plain": [
       "   row_id  subject_id   hadm_id  chartdate charttime storetime category  \\\n",
       "0   59653       31038  174978.0 2102-06-14      None      None     Echo   \n",
       "1   59654       70150  156140.0 2191-05-10      None      None     Echo   \n",
       "2   59655       54190  188571.0 2158-02-16      None      None     Echo   \n",
       "3   59656        5771  185291.0 2173-09-02      None      None     Echo   \n",
       "4   59657       80030  100442.0 2119-06-07      None      None     Echo   \n",
       "\n",
       "  description  cgid iserror                                               text  \n",
       "0      Report  None    None  PATIENT/TEST INFORMATION:\\nIndication: Endocar...  \n",
       "1      Report  None    None  PATIENT/TEST INFORMATION:\\nIndication: CHF, A-...  \n",
       "2      Report  None    None  PATIENT/TEST INFORMATION:\\nIndication: Cerebro...  \n",
       "3      Report  None    None  PATIENT/TEST INFORMATION:\\nIndication: 78 year...  \n",
       "4      Report  None    None  PATIENT/TEST INFORMATION:\\nIndication: Left ve...  "
      ]
     },
     "execution_count": 56,
     "metadata": {},
     "output_type": "execute_result"
    }
   ],
   "source": [
    "## Loading the Noteevents Database into df\n",
    "\n",
    "sql_query = \"\"\"select * from mimic.mimiciii.noteevents where category='Echo'\"\"\"\n",
    "sql_query = re.sub(r'%', '%%', sql_query)\n",
    "df = pd.read_sql_query(sql_query ,con=conn)\n",
    "df.head()"
   ]
  },
  {
   "cell_type": "markdown",
   "metadata": {},
   "source": [
    "## Writing Files into a Text Files in a Folder"
   ]
  },
  {
   "cell_type": "code",
   "execution_count": 26,
   "metadata": {},
   "outputs": [],
   "source": [
    "for row_id,element in zip(df.row_id, df.text):\n",
    "    row_id, element\n",
    "    with open(\"./EchoNotes/\" + str(row_id) + \".txt\",'w') as file:\n",
    "        file.write(element)"
   ]
  },
  {
   "cell_type": "markdown",
   "metadata": {},
   "source": [
    "# Match the Queries with Elastic Search powered by Solr"
   ]
  },
  {
   "cell_type": "markdown",
   "metadata": {},
   "source": [
    "### Elastic search is the state of the art in search engines GOOGLE, I used this actually match the queries given in the LV RV Dysfunction modified document with all the Echo Notes"
   ]
  },
  {
   "cell_type": "code",
   "execution_count": 22,
   "metadata": {},
   "outputs": [],
   "source": [
    "## Creating a Map for the Echo Notes\n",
    "\n",
    "EchoMap = {}\n",
    "EchoMap[\"LVSF\"] = {'normal':{},'mild_moderate':{},'severely':{}}\n",
    "EchoMap[\"LVCF\"] = {'normal':{},'mild_moderate':{},'severely':{}}\n",
    "EchoMap[\"RVSF\"] = {'normal':{},'mild_moderate':{},'severely':{}}\n",
    "EchoMap[\"RVCF\"] = {'normal':{},'mild_moderate':{},'severely':{}}"
   ]
  },
  {
   "cell_type": "code",
   "execution_count": 79,
   "metadata": {},
   "outputs": [],
   "source": [
    "KeyToMap = {}\n",
    "KeyToMap[\"LVSF\"] = \"Search terms used to categorize left ventricular systolic function\"\n",
    "KeyToMap[\"LVCF\"] = \"Search terms used to categorize left ventricular cavity function\"\n",
    "KeyToMap[\"RVSF\"] = \"Search terms used to categorize right ventricular systolic function\"\n",
    "KeyToMap[\"RVCF\"] = \"Search terms used to categorize right ventricular cavity function\""
   ]
  },
  {
   "cell_type": "code",
   "execution_count": 32,
   "metadata": {},
   "outputs": [],
   "source": [
    "EchoMap[\"LVSF\"]['normal'] = \"\"\"Overall normal LVEF (>55%)\n",
    "Normal LV wall thickness, cavity size and regional/global systolic function (LVEF >55%)\n",
    "Low normal LVEF\n",
    "Normal LV wall thickness, cavity size, and systolic function (LVEF>55%)\n",
    "Mild symmetric LVH with normal cavity size and regional/global systolic function (LVEF>55%)\n",
    "Overall left ventricular systolic function is normal (LVEF>55%)\n",
    "Normal LV wall thickness, cavity size, and global systolic function (LVEF>55%)\n",
    "Left ventricular wall thickness, cavity size, and systolic function are normal (LVEF>55%)\n",
    "Mild symmetric LVH with normal cavity size and systolic function (LVEF>55%)\n",
    "Mild symmetric LVH with normal cavity size and global systolic function (LVEF>55%)\n",
    "Overall left ventricular systolic function is low normal (LVEF 50-55%)\n",
    "There is mild symmetric left ventricular hypertrophy with normal cavity size and systolic function (LVEF>55%)\n",
    "Normal LV wall thickness, cavity size and regional/global function (LVEF >55%)\n",
    "Normal LV wall thickness, cavity size, and global function (LVEF>55%)\n",
    "Left ventricular wall thickness, cavity size, and systolic function are normal\n",
    "There is mild symmetric left ventricular hypertrophy with normal cavity size and systolic function\n",
    "Low normal LVEF (50-55%)\n",
    "Hyperdynamic LVEF >75%\n",
    "Hyperdynamic LVEF\n",
    "Left ventricular systolic function is hyperdynamic (EF>75%)\n",
    "Hyperdynamic left ventricular systolic function\n",
    "Hyperdynamic LVEF (>75%)\"\"\"\n",
    "\n",
    "EchoMap[\"LVSF\"]['mild_moderate'] = \"\"\"Mildly depressed LVEF\n",
    "Mild global LV hypokinesis\n",
    "Depressed LVEF\n",
    "Overall left ventricular systolic function is mildly depressed\n",
    "depressed LVEF\n",
    "Mildly depressed LVEF (40-55%)\n",
    "global LV hypokinesis\n",
    "LV systolic function appears depressed\n",
    "There is mild global left ventricular hypokinesis\n",
    "Intrinsic LV systolic function depressed given the severity of valvular regurgitation\n",
    "Moderately depressed LVEF\n",
    "Overall left ventricular systolic function is moderately depressed\n",
    "Moderate global LV hypokinesis\n",
    "There is moderate global left ventricular hypokinesis\n",
    "Mild-moderate global left ventricular hypokinesis\n",
    "Moderately depressed LVEF (30-39%)\"\"\"\n",
    "\n",
    "EchoMap[\"LVSF\"]['severely'] = \"\"\"Severely depressed LVEF\n",
    "Severe global LV hypokinesis\n",
    "Overall left ventricular systolic function is severely depressed\n",
    "There is severe global left ventricular hypokinesis\n",
    "Moderate-severe global left ventricular hypokinesis\n",
    "Severely depressed LVEF (<30%)\n",
    "-severe global left ventricular hypokinesis\"\"\""
   ]
  },
  {
   "cell_type": "code",
   "execution_count": 36,
   "metadata": {},
   "outputs": [],
   "source": [
    "EchoMap[\"LVCF\"]['normal'] = \"\"\"Normal LV cavity size\n",
    "Normal LV wall thickness, cavity size and regional/global systolic function (LVEF >55%)\n",
    "The left ventricular cavity size is normal\n",
    "Normal LV wall thickness and cavity size\n",
    "Mild symmetric LVH with normal cavity size\n",
    "Normal LV wall thickness, cavity size, and systolic function (LVEF>55%)\n",
    "Mild symmetric LVH with normal cavity size and regional/global systolic function (LVEF>55%)\n",
    "Normal LV wall thickness, cavity size, and global systolic function (LVEF>55%)\n",
    "Left ventricular wall thickness, cavity size, and systolic function are normal (LVEF>55%)\n",
    "Normal LV wall thicknesses and cavity size\n",
    "Mild symmetric LVH with normal cavity size and systolic function (LVEF>55%)\n",
    "Left ventricular wall thicknesses and cavity size are normal\n",
    "Mild symmetric LVH with normal cavity size and global systolic function (LVEF>55%)\n",
    "There is mild symmetric left ventricular hypertrophy with normal cavity size and systolic function (LVEF>55%)\n",
    "There is mild symmetric left ventricular hypertrophy with normal cavity size\n",
    "The left ventricular cavity size is top normal/borderline dilated\n",
    "Normal LV wall thickness, cavity size, and global function (LVEF>55%)\n",
    "Left ventricular wall thickness, cavity size, and systolic function are normal\n",
    "LV cavity normal for BSA\n",
    "There is mild symmetric left ventricular hypertrophy with normal cavity size and systolic function\n",
    "Top /borderline dilated LV cavity size\n",
    "Normal LV thickness and cavity size\n",
    "Normal LV wall thickness, cavity size and regional/global function (LVEF >55%)\"\"\"\n",
    "\n",
    "EchoMap[\"LVCF\"]['mild_moderate'] = \"\"\"Mildly dilated LV cavity\n",
    "The left ventricular cavity is mildly dilated\n",
    "Dilated LV cavity\n",
    "The left ventricular cavity is dilated\n",
    "Mildly dilated LV cavity\n",
    "Moderately dilated LV cavity\n",
    "The left ventricular cavity is moderately dilated\"\"\"\n",
    "\n",
    "EchoMap[\"LVCF\"]['severely'] = \"\"\"Severely dilated LV cavity\n",
    "The left ventricular cavity is severely dilated\"\"\""
   ]
  },
  {
   "cell_type": "code",
   "execution_count": 35,
   "metadata": {},
   "outputs": [],
   "source": [
    "EchoMap[\"RVSF\"]['normal'] = \"\"\"Normal RV chamber size and free wall motion\n",
    "Right ventricular chamber size and free wall motion are normal\n",
    "Normal RV systolic function\n",
    "Right ventricular systolic function is borderline normal\n",
    "Borderline normal RV systolic function\n",
    "Right ventricular systolic function is normal\n",
    "Right ventricular chamber size and systolic function are normal\n",
    "TASPE normal (>=1.6cm) Normal interventricular septal motion\n",
    "TASPE normal (>=1.6cm)\n",
    "Normal RV chamber size and free motion\n",
    "Normal RV function\"\"\"\n",
    "\n",
    "EchoMap[\"RVSF\"]['mild_moderate'] = \"\"\"Mild global RV free wall hypokinesis\n",
    "There is mild global right ventricular free wall hypokinesis\n",
    "Right ventricular systolic function appears depressed\n",
    "RV function depressed\n",
    "Mild global RV free hypokinesis\n",
    "TASPE depressed (<1.6cm)\n",
    "TASPE depressed (<1.6cm) RV function depressed\n",
    "TASPE depressed (<1.6cm) Abnormal systolic septal motion/position consistent with RV pressure overload\n",
    "TASPE depressed (<1.6cm) Abnormal septal motion/position consistent with RV pressure/volume overload\n",
    "TASPE depressed (<1.6cm) Intrinsic RV systolic function likely more depressed given the severity of TR\n",
    "TASPE depressed (<1.6cm) Paradoxical septal motion consistent with conduction abnormality/ventricular pacing\n",
    "TASPE depressed (<1.6cm) Normal interventricular septal motion\n",
    "TASPE depressed (<1.6cm) Paradoxical septal motion consistent with prior cardiac surgery\n",
    "TASPE depressed (<1.6cm) Abnormal septal motion/position\n",
    "There is moderate global right ventricular free wall hypokinesis\n",
    "Moderate global RV free wall hypokinesis\n",
    "Moderate global RV free hypokinesis\"\"\"\n",
    "\n",
    "EchoMap[\"RVSF\"]['severely'] = \"\"\"There is severe global right ventricular free wall hypokinesis\n",
    "Severe global RV free wall hypokinesis\"\"\""
   ]
  },
  {
   "cell_type": "code",
   "execution_count": 34,
   "metadata": {},
   "outputs": [],
   "source": [
    "EchoMap[\"RVCF\"]['normal'] = \"\"\"Normal RV chamber size and free wall motion\n",
    "Right ventricular chamber size and free wall motion are normal\n",
    "Normal RV chamber size\n",
    "Right ventricular chamber size is normal\n",
    "Right ventricular chamber size and systolic function are normal\n",
    "Normal RV chamber size and free motion\n",
    "Right ventricular chamber size and free motion are normal\"\"\"\n",
    "\n",
    "EchoMap[\"RVCF\"]['mild_moderate'] = \"\"\"Mildly dilated RV cavity\n",
    "Dilated RV cavity\n",
    "The right ventricular cavity is dilated\n",
    "The right ventricular cavity is mildly dilated\"\"\"\n",
    "\n",
    "EchoMap[\"RVCF\"]['severely'] = \"\"\"Moderately dilated RV cavity\n",
    "Markedly dilated RV cavity\n",
    "The right ventricular cavity is moderately dilated\n",
    "The right ventricular cavity is markedly dilated\"\"\""
   ]
  },
  {
   "cell_type": "code",
   "execution_count": 47,
   "metadata": {},
   "outputs": [],
   "source": [
    "for key in (EchoMap):\n",
    "    for level in EchoMap[key]:\n",
    "        sents = EchoMap[key][level].split(\"\\n\")\n",
    "        EchoMap[key][level] = {}\n",
    "        for sent in sents:\n",
    "            EchoMap[key][level][sent] = list()"
   ]
  },
  {
   "cell_type": "code",
   "execution_count": null,
   "metadata": {},
   "outputs": [],
   "source": [
    "connection = urlopen('http://localhost:8983/solr/chf_sepsis/select?q=\"Left+ventricular+systolic+function+is+hyperdynamic+\\(EF>75\\)\"~4&wt=python&rows=50000')\n",
    "response = eval(connection.read())\n",
    "print (response['response']['numFound'], \"documents found.\")\n",
    "for i,document in enumerate(response['response']['docs']):\n",
    "    if i == 10 or i == len(response['response']['docs']) - 1:\n",
    "        print(i, document['id'].split('/')[-1])\n",
    "        print()"
   ]
  },
  {
   "cell_type": "code",
   "execution_count": 69,
   "metadata": {},
   "outputs": [],
   "source": [
    "url1 = 'http://localhost:8983/solr/chf_sepsis/select?q=\"'\n",
    "url3 = '\"~4&wt=python&rows=50000'\n",
    "for key in (EchoMap):\n",
    "    for level in EchoMap[key]:\n",
    "        for sent in EchoMap[key][level]:\n",
    "            url2 = sent.replace(' ','+').replace('(','\\(').replace('%','').replace(')','\\)')\n",
    "            connection = urlopen(url1 + url2 + url3)\n",
    "            response = eval(connection.read())\n",
    "            for document in (response['response']['docs']):\n",
    "                EchoMap[key][level][sent].append(int(document['id'].split('/')[-1][:-4]))"
   ]
  },
  {
   "cell_type": "code",
   "execution_count": 89,
   "metadata": {},
   "outputs": [],
   "source": [
    "with open('EchoMap.json', 'w') as fp:\n",
    "    json.dump(EchoMap, fp)"
   ]
  },
  {
   "cell_type": "code",
   "execution_count": 87,
   "metadata": {},
   "outputs": [],
   "source": [
    "with open(\"StatisticOfSentences.txt\",'w') as f:\n",
    "\n",
    "    for key in (EchoMap):\n",
    "        print(KeyToMap[key], file=f)\n",
    "        print(\"\",file=f)\n",
    "        for level in EchoMap[key]:\n",
    "            print('*'*25,file=f)\n",
    "            print(level.upper(),file=f)\n",
    "            print('*'*25,file=f)\n",
    "            print(\"\",file=f)\n",
    "            for sent in EchoMap[key][level]:\n",
    "                if EchoMap[key][level][sent]:\n",
    "                    print(sent,file=f)\n",
    "                    print(\"Number of Documents\", len(EchoMap[key][level][sent]),file=f)\n",
    "                    print(\"First\", EchoMap[key][level][sent][0],file=f)\n",
    "                    print(\"Random\", random.choice(EchoMap[key][level][sent]),file=f)\n",
    "                    print(\"Last\", EchoMap[key][level][sent][-1],file=f)\n",
    "                    print(\"\",file=f)\n",
    "                else:\n",
    "                    print(sent,file=f)\n",
    "                    print(\"Number of Documents\", len(EchoMap[key][level][sent]),file=f)\n",
    "                    print(\"First\", 0,file=f)\n",
    "                    print(\"Random\", 0,file=f)\n",
    "                    print(\"Last\", 0,file=f)\n",
    "                    print(\"\",file=f)\n",
    "        print(\"\",file=f)\n",
    "        print(\"*\"*100,file=f)"
   ]
  },
  {
   "cell_type": "code",
   "execution_count": 101,
   "metadata": {},
   "outputs": [],
   "source": [
    "CHF_Patients_severely = set()\n",
    "CHF_Patients_mild_moderate = set()\n",
    "CHF_Patients_severely_AND_mild_moderate = set()\n",
    "\n",
    "for key in (EchoMap):\n",
    "    for level in EchoMap[key]:\n",
    "        if level in ['severely']:\n",
    "            for sent in EchoMap[key][level]:\n",
    "                CHF_Patients_severely |= set(EchoMap[key][level][sent])\n",
    "\n",
    "for key in (EchoMap):\n",
    "    for level in EchoMap[key]:\n",
    "        if level in ['mild_moderate']:\n",
    "            for sent in EchoMap[key][level]:\n",
    "                CHF_Patients_mild_moderate |= set(EchoMap[key][level][sent])\n",
    "\n",
    "for key in (EchoMap):\n",
    "    for level in EchoMap[key]:\n",
    "        if level in ['severely','mild_moderate']:\n",
    "            for sent in EchoMap[key][level]:\n",
    "                CHF_Patients_severely_AND_mild_moderate |= set(EchoMap[key][level][sent])"
   ]
  },
  {
   "cell_type": "code",
   "execution_count": 104,
   "metadata": {},
   "outputs": [],
   "source": [
    "CHF_Patients_severely = df[df['row_id'].isin(CHF_Patients_severely)]"
   ]
  },
  {
   "cell_type": "code",
   "execution_count": 105,
   "metadata": {},
   "outputs": [],
   "source": [
    "CHF_Patients_mild_moderate = df[df['row_id'].isin(CHF_Patients_mild_moderate)]"
   ]
  },
  {
   "cell_type": "code",
   "execution_count": 106,
   "metadata": {},
   "outputs": [],
   "source": [
    "CHF_Patients_severely_AND_mild_moderate = df[df['row_id'].isin(CHF_Patients_severely_AND_mild_moderate)]"
   ]
  },
  {
   "cell_type": "code",
   "execution_count": 112,
   "metadata": {},
   "outputs": [],
   "source": [
    "header = [\"row_id\", \"subject_id\", \"hadm_id\"]\n",
    "CHF_Patients_severely.to_csv(\"CHF_Patients_severely.csv\", columns=header)\n",
    "CHF_Patients_mild_moderate.to_csv(\"CHF_Patients_mild_moderate.csv\", columns=header)\n",
    "CHF_Patients_severely_AND_mild_moderate.to_csv(\"CHF_Patients_severely_AND_mild_moderate.csv\", columns=header)"
   ]
  }
 ],
 "metadata": {
  "kernelspec": {
   "display_name": "Python 3",
   "language": "python",
   "name": "python3"
  },
  "language_info": {
   "codemirror_mode": {
    "name": "ipython",
    "version": 3
   },
   "file_extension": ".py",
   "mimetype": "text/x-python",
   "name": "python",
   "nbconvert_exporter": "python",
   "pygments_lexer": "ipython3",
   "version": "3.6.3"
  }
 },
 "nbformat": 4,
 "nbformat_minor": 2
}
